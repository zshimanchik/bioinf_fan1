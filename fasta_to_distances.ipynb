{
 "cells": [
  {
   "cell_type": "code",
   "execution_count": 2,
   "metadata": {},
   "outputs": [],
   "source": [
    "import pickle\n",
    "import numpy as np\n",
    "from sklearn.cluster import DBSCAN\n",
    "import matplotlib.pyplot as plt\n",
    "import networkx as nx\n",
    "from mpl_toolkits.mplot3d import Axes3D\n",
    "from sklearn.cluster import KMeans\n",
    "import time\n",
    "from Bio import SeqIO"
   ]
  },
  {
   "cell_type": "code",
   "execution_count": 4,
   "metadata": {},
   "outputs": [],
   "source": [
    "with open('GAG.fasta', 'r') as f:\n",
    "    seq = list(SeqIO.parse(f, 'fasta'))"
   ]
  },
  {
   "cell_type": "code",
   "execution_count": 3,
   "metadata": {},
   "outputs": [],
   "source": [
    "def timeit(func):\n",
    "    def wrapper():\n",
    "        start = time.time()\n",
    "        func()\n",
    "        print(\"calc time={}\".format(time.time() - start))\n",
    "    return wrapper"
   ]
  },
  {
   "cell_type": "code",
   "execution_count": 7,
   "metadata": {},
   "outputs": [],
   "source": [
    "# Levenshtein distance\n",
    "import Levenshtein as lvn\n",
    "\n",
    "def distance(args):\n",
    "    a, b = args\n",
    "    return lvn.distance(str(a),str(b))"
   ]
  },
  {
   "cell_type": "code",
   "execution_count": 5,
   "metadata": {},
   "outputs": [],
   "source": [
    "# Needleman Wunshe distance\n",
    "from Bio import pairwise2\n",
    "\n",
    "def distance(args):\n",
    "    a, b = args\n",
    "    return pairwise2.align.globalxx(a,b)"
   ]
  },
  {
   "cell_type": "code",
   "execution_count": 10,
   "metadata": {},
   "outputs": [
    {
     "name": "stdout",
     "output_type": "stream",
     "text": [
      "calc time=137.63756895065308\n"
     ]
    }
   ],
   "source": [
    "# Multiprocessing calculation\n",
    "from multiprocessing import Pool\n",
    "\n",
    "@timeit\n",
    "def calca_e2e():\n",
    "    data = []\n",
    "    for i in range(len(seq)):\n",
    "        for j in range(i, len(seq)):\n",
    "            a, b = seq[i].seq, seq[j].seq\n",
    "            data.append((a,b))\n",
    "    with Pool(8) as p:\n",
    "        cdata = p.map(distance, data)\n",
    "\n",
    "    with open('linear_data.pkl', 'wb') as f:\n",
    "        pickle.dump(cdata, f)\n",
    "        \n",
    "calca_e2e()"
   ]
  },
  {
   "cell_type": "code",
   "execution_count": 5,
   "metadata": {},
   "outputs": [],
   "source": [
    "# linear data to matrix\n",
    "\n",
    "with open('linear_data.pkl', 'rb') as f:\n",
    "    cdata = pickle.load(f)\n",
    "\n",
    "matrix = [[0]*len(seq) for _ in range(len(seq))]\n",
    "icdata = iter(cdata)\n",
    "for i in range(len(seq)):\n",
    "    for j in range(i, len(seq)):\n",
    "        score = next(icdata)\n",
    "        matrix[i][j] = score\n",
    "        matrix[j][i] = score\n",
    "\n",
    "with open('matrix.pkl', 'wb') as f:\n",
    "    pickle.dump(matrix, f)"
   ]
  },
  {
   "cell_type": "code",
   "execution_count": null,
   "metadata": {},
   "outputs": [],
   "source": [
    ""
   ]
  }
 ],
 "metadata": {},
 "nbformat": 4,
 "nbformat_minor": 0
}