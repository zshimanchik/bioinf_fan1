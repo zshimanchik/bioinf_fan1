{
 "cells": [
  {
   "cell_type": "code",
   "execution_count": 1,
   "metadata": {
    "collapsed": true
   },
   "outputs": [],
   "source": [
    "import pickle\n",
    "import numpy as np\n",
    "from sklearn.cluster import DBSCAN, KMeans\n",
    "import matplotlib.pyplot as plt\n",
    "import networkx as nx\n",
    "from mpl_toolkits.mplot3d import Axes3D\n",
    "from sklearn import manifold\n",
    "from sklearn.preprocessing.data import StandardScaler"
   ]
  },
  {
   "cell_type": "code",
   "execution_count": 5,
   "metadata": {},
   "outputs": [],
   "source": [
    "with open('matrix.pkl', 'rb') as f:\n",
    "    distances = np.array(pickle.load(f))\n",
    "    # square two dimencial array wich contains distances between points\n",
    "# distances = np.array([\n",
    "#     [0, 5, 6],\n",
    "#     [5, 0, 3],\n",
    "#     [6, 3, 0],\n",
    "# ])\n",
    "\n",
    "def get_distance(i, j):\n",
    "    i = int(i[0])\n",
    "    j = int(j[0])\n",
    "    return distances[i][j]"
   ]
  },
  {
   "cell_type": "code",
   "execution_count": 4,
   "metadata": {},
   "outputs": [],
   "source": [
    "# X = [[x] for x in range(len(distances))]\n",
    "# db = DBSCAN(eps=0.3, min_samples=10, metric=get_distance).fit_predict(X)\n",
    "\n",
    "mds = manifold.MDS(n_components=2, n_jobs=-1)\n",
    "X = mds.fit_transform(distances)\n",
    "# X = StandardScaler().fit_transform(X)\n",
    "\n",
    "y_pred = DBSCAN(n_jobs=-1).fit_predict(X)\n",
    "# y_pred = KMeans(n_clusters=3).fit_predict(pos)"
   ]
  },
  {
   "cell_type": "code",
   "execution_count": null,
   "metadata": {},
   "outputs": [],
   "source": [
    "#2D\n",
    "plt.scatter(X[:, 0], X[:, 1], c=y_pred)\n",
    "plt.show()"
   ]
  },
  {
   "cell_type": "code",
   "execution_count": 10,
   "metadata": {
    "collapsed": false
   },
   "outputs": [
    {
     "data": {
      "text/plain": [
       "<IPython.core.display.Javascript object>"
      ]
     },
     "execution_count": 0,
     "metadata": {},
     "output_type": "execute_result"
    },
    {
     "data": {
      "text/html": [
       "<div id='fd881ed1-c5e5-4d10-8997-dc655036acf3'></div>"
      ],
      "text/plain": [
       "<div id='fd881ed1-c5e5-4d10-8997-dc655036acf3'></div>"
      ]
     },
     "execution_count": 0,
     "metadata": {},
     "output_type": "execute_result"
    }
   ],
   "source": [
    "%matplotlib notebook\n",
    "# 3D\n",
    "fig = plt.figure()\n",
    "ax = fig.add_subplot(111, projection='3d')\n",
    "ax.scatter(X[:, 0], X[:, 1], X[:, 2], c=y_pred)\n",
    "plt.show()"
   ]
  }
 ],
 "metadata": {
  "kernelspec": {
   "display_name": "Python 3",
   "language": "python",
   "name": "python3"
  },
  "language_info": {
   "codemirror_mode": {
    "name": "ipython",
    "version": 3.0
   },
   "file_extension": ".py",
   "mimetype": "text/x-python",
   "name": "python",
   "nbconvert_exporter": "python",
   "pygments_lexer": "ipython3",
   "version": "3.6.0"
  }
 },
 "nbformat": 4,
 "nbformat_minor": 0
}